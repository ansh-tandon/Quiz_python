{
 "cells": [
  {
   "cell_type": "code",
   "execution_count": 1,
   "metadata": {
    "scrolled": true
   },
   "outputs": [
    {
     "name": "stdout",
     "output_type": "stream",
     "text": [
      "Are you ready to play (yes/no): yes\n",
      "Note: ! do not write option.\n",
      "Question- What is the best Programming Language? \n",
      "a): Python\n",
      "b): C\n",
      "c): Java\n",
      "Hello! Welcome to my Quiz\n",
      "All Questions carries 10 marks each\n",
      "C\n",
      "Incorrect\n",
      "Note: ! do not write option.\n",
      "Question- Who is the Founder of Apple Inc? \n",
      "a): Mark Zuckerberg\n",
      "b): Warren Buffet\n",
      "c): Steve jobs\n",
      "Hello! Welcome to my Quiz\n",
      "All Questions carries 10 marks each\n",
      "Steve Jobs\n",
      "Correct\n",
      "Note: ! do not write option.\n",
      "Question- What is more better among these? \n",
      "a): Data Science\n",
      "b): Artificial Intelligence\n",
      "c): Digital Marketing\n",
      "Hello! Welcome to my Quiz\n",
      "All Questions carries 10 marks each\n",
      "fr\n",
      "Incorrect\n",
      "Note: ! do not write option.\n",
      "Question- What is the best Investment? \n",
      "a): Share Capital\n",
      "b): Mutual Funds\n",
      "c): Bitcoin\n",
      "Hello! Welcome to my Quiz\n",
      "All Questions carries 10 marks each\n",
      "fer\n",
      "Incorrect\n"
     ]
    },
    {
     "ename": "NameError",
     "evalue": "name 'lt' is not defined",
     "output_type": "error",
     "traceback": [
      "\u001b[1;31m---------------------------------------------------------------------------\u001b[0m",
      "\u001b[1;31mNameError\u001b[0m                                 Traceback (most recent call last)",
      "\u001b[1;32m<ipython-input-1-cd4c419e2060>\u001b[0m in \u001b[0;36m<module>\u001b[1;34m\u001b[0m\n\u001b[0;32m     47\u001b[0m         \u001b[0mprint\u001b[0m\u001b[1;33m(\u001b[0m\u001b[1;34m\"Incorrect\"\u001b[0m\u001b[1;33m)\u001b[0m\u001b[1;33m\u001b[0m\u001b[1;33m\u001b[0m\u001b[0m\n\u001b[0;32m     48\u001b[0m         \u001b[0mi\u001b[0m \u001b[1;33m=\u001b[0m \u001b[0mscore\u001b[0m\u001b[1;33m*\u001b[0m\u001b[1;36m10\u001b[0m\u001b[1;33m\u001b[0m\u001b[1;33m\u001b[0m\u001b[0m\n\u001b[1;32m---> 49\u001b[1;33m \u001b[1;32mif\u001b[0m \u001b[0mi\u001b[0m \u001b[1;33m&\u001b[0m \u001b[0mlt\u001b[0m\u001b[1;33m:\u001b[0m\u001b[1;33m\u001b[0m\u001b[1;33m\u001b[0m\u001b[0m\n\u001b[0m\u001b[0;32m     50\u001b[0m     \u001b[0mprint\u001b[0m\u001b[1;33m(\u001b[0m\u001b[1;34m\"oops, your score is \"\u001b[0m\u001b[1;33m,\u001b[0m\u001b[0mi\u001b[0m\u001b[1;33m,\u001b[0m\u001b[1;34m\"/ 40 better luck next time.\"\u001b[0m\u001b[1;33m)\u001b[0m\u001b[1;33m\u001b[0m\u001b[1;33m\u001b[0m\u001b[0m\n\u001b[0;32m     51\u001b[0m \u001b[1;32melif\u001b[0m \u001b[0mi\u001b[0m \u001b[1;33m==\u001b[0m\u001b[1;36m30\u001b[0m\u001b[1;33m:\u001b[0m\u001b[1;33m\u001b[0m\u001b[1;33m\u001b[0m\u001b[0m\n",
      "\u001b[1;31mNameError\u001b[0m: name 'lt' is not defined"
     ]
    }
   ],
   "source": [
    "def give_options(x,y,z):\n",
    "    print(\"a):\", x)\n",
    "    print(\"b):\", y)\n",
    "    print(\"c):\", z)\n",
    "    print(\"Hello! Welcome to my Quiz\" \"\\n\" \"All Questions carries 10 marks each\")\n",
    "ans = input(\"Are you ready to play (yes/no): \")\n",
    "a =\"Note: ! do not write option.\"\n",
    "score = 0\n",
    "total_questions = 4\n",
    "correct_ans =[\"python\", \"steve jobs\", \"artificial intelligence\", \"bitcoin\"]\n",
    "if ans.lower() == \"yes\":\n",
    "    print(a)\n",
    "    print(\"Question- What is the best Programming Language? \")\n",
    "    give_options(\"Python\", \"C\", \"Java\" )\n",
    "    ans=input(\"\")\n",
    "    if ans.lower() == correct_ans[0]:\n",
    "        score=score+1\n",
    "        print(\"Correct\")\n",
    "    else:\n",
    "        print(\"Incorrect\")\n",
    "    print(a)\n",
    "    print(\"Question- Who is the Founder of Apple Inc? \")\n",
    "    give_options(\"Mark Zuckerberg\", \"Warren Buffet\", \"Steve jobs\")\n",
    "    ans = input(\"\")\n",
    "    if ans.lower() == correct_ans[1]:\n",
    "        score=score+1\n",
    "        print(\"Correct\")\n",
    "    else:\n",
    "        print(\"Incorrect\")\n",
    "    print(a)\n",
    "    print(\"Question- What is more better among these? \")\n",
    "    give_options(\"Data Science\", \"Artificial Intelligence\", \"Digital Marketing\")\n",
    "    ans = input(\"\") \n",
    "    if ans.lower() == correct_ans[2]:\n",
    "        score=score+1\n",
    "        print(\"Correct\")\n",
    "    else:\n",
    "        print(\"Incorrect\")\n",
    "    print(a)\n",
    "    print(\"Question- What is the best Investment? \")\n",
    "    give_options(\"Share Capital\", \"Mutual Funds\", \"Bitcoin\")\n",
    "    ans = input(\"\")\n",
    "    if ans.lower() == correct_ans[3]:\n",
    "        score=score+1\n",
    "        print(\"Correct\")\n",
    "    else:\n",
    "        print(\"Incorrect\")\n",
    "        i = score*10\n",
    "if i & lt:\n",
    "    print(\"oops, your score is \",i,\"/ 40 better luck next time.\")\n",
    "elif i ==30:\n",
    "    print(\"wow! you scored \",i,\"/ 40 you are quiet smart.\")\n",
    "else:\n",
    "    print(\"Congratulations! it's a perfect \",i,\"/ 40 you are Intelligent.\")"
   ]
  },
  {
   "cell_type": "raw",
   "metadata": {},
   "source": []
  }
 ],
 "metadata": {
  "kernelspec": {
   "display_name": "Python 3",
   "language": "python",
   "name": "python3"
  },
  "language_info": {
   "codemirror_mode": {
    "name": "ipython",
    "version": 3
   },
   "file_extension": ".py",
   "mimetype": "text/x-python",
   "name": "python",
   "nbconvert_exporter": "python",
   "pygments_lexer": "ipython3",
   "version": "3.7.6"
  }
 },
 "nbformat": 4,
 "nbformat_minor": 4
}
